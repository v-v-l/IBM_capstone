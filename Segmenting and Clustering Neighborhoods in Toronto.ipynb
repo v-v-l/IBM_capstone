{
 "cells": [
  {
   "cell_type": "markdown",
   "metadata": {
    "collapsed": true
   },
   "source": [
    "## Scrape data from wiki to get the dataframe"
   ]
  },
  {
   "cell_type": "code",
   "execution_count": 79,
   "metadata": {},
   "outputs": [],
   "source": [
    "#import necessary modules\n",
    "import pandas as pd\n",
    "import geopy\n",
    "import folium\n",
    "from geopy.geocoders import Nominatim"
   ]
  },
  {
   "cell_type": "markdown",
   "metadata": {},
   "source": [
    "Loading the data"
   ]
  },
  {
   "cell_type": "code",
   "execution_count": 90,
   "metadata": {},
   "outputs": [],
   "source": [
    "#loading (scraping) the data\n",
    "codes_df = pd.read_html(\"https://en.wikipedia.org/wiki/List_of_postal_codes_of_Canada:_M\")[0]\n",
    "\n",
    "#get only assigned Borough\n",
    "df = codes_df[codes_df['Borough'] != 'Not assigned']"
   ]
  },
  {
   "cell_type": "markdown",
   "metadata": {},
   "source": [
    "If filtered, no \"Not assigned\" values exist in the Neighborhood column"
   ]
  },
  {
   "cell_type": "code",
   "execution_count": 91,
   "metadata": {},
   "outputs": [
    {
     "data": {
      "text/html": [
       "<div>\n",
       "<style scoped>\n",
       "    .dataframe tbody tr th:only-of-type {\n",
       "        vertical-align: middle;\n",
       "    }\n",
       "\n",
       "    .dataframe tbody tr th {\n",
       "        vertical-align: top;\n",
       "    }\n",
       "\n",
       "    .dataframe thead th {\n",
       "        text-align: right;\n",
       "    }\n",
       "</style>\n",
       "<table border=\"1\" class=\"dataframe\">\n",
       "  <thead>\n",
       "    <tr style=\"text-align: right;\">\n",
       "      <th></th>\n",
       "      <th>Postal Code</th>\n",
       "      <th>Borough</th>\n",
       "      <th>Neighborhood</th>\n",
       "    </tr>\n",
       "  </thead>\n",
       "  <tbody>\n",
       "    <tr>\n",
       "      <th>2</th>\n",
       "      <td>M3A</td>\n",
       "      <td>North York</td>\n",
       "      <td>Parkwoods</td>\n",
       "    </tr>\n",
       "    <tr>\n",
       "      <th>3</th>\n",
       "      <td>M4A</td>\n",
       "      <td>North York</td>\n",
       "      <td>Victoria Village</td>\n",
       "    </tr>\n",
       "    <tr>\n",
       "      <th>4</th>\n",
       "      <td>M5A</td>\n",
       "      <td>Downtown Toronto</td>\n",
       "      <td>Regent Park, Harbourfront</td>\n",
       "    </tr>\n",
       "    <tr>\n",
       "      <th>5</th>\n",
       "      <td>M6A</td>\n",
       "      <td>North York</td>\n",
       "      <td>Lawrence Manor, Lawrence Heights</td>\n",
       "    </tr>\n",
       "    <tr>\n",
       "      <th>6</th>\n",
       "      <td>M7A</td>\n",
       "      <td>Downtown Toronto</td>\n",
       "      <td>Queen's Park, Ontario Provincial Government</td>\n",
       "    </tr>\n",
       "  </tbody>\n",
       "</table>\n",
       "</div>"
      ],
      "text/plain": [
       "  Postal Code           Borough                                 Neighborhood\n",
       "2         M3A        North York                                    Parkwoods\n",
       "3         M4A        North York                             Victoria Village\n",
       "4         M5A  Downtown Toronto                    Regent Park, Harbourfront\n",
       "5         M6A        North York             Lawrence Manor, Lawrence Heights\n",
       "6         M7A  Downtown Toronto  Queen's Park, Ontario Provincial Government"
      ]
     },
     "execution_count": 91,
     "metadata": {},
     "output_type": "execute_result"
    }
   ],
   "source": [
    "df.head()"
   ]
  },
  {
   "cell_type": "code",
   "execution_count": 92,
   "metadata": {},
   "outputs": [
    {
     "data": {
      "text/plain": [
       "(103, 3)"
      ]
     },
     "execution_count": 92,
     "metadata": {},
     "output_type": "execute_result"
    }
   ],
   "source": [
    "df.shape"
   ]
  },
  {
   "cell_type": "markdown",
   "metadata": {},
   "source": [
    "### Get coordinates"
   ]
  },
  {
   "cell_type": "markdown",
   "metadata": {},
   "source": [
    "Since geocoding refused to connect to google, csv data was used"
   ]
  },
  {
   "cell_type": "code",
   "execution_count": 60,
   "metadata": {},
   "outputs": [],
   "source": [
    "#reading file with coordinates\n",
    "coordinates = pd.read_csv('https://cocl.us/Geospatial_data')\n",
    "#coordinates"
   ]
  },
  {
   "cell_type": "code",
   "execution_count": 61,
   "metadata": {},
   "outputs": [
    {
     "data": {
      "text/html": [
       "<div>\n",
       "<style scoped>\n",
       "    .dataframe tbody tr th:only-of-type {\n",
       "        vertical-align: middle;\n",
       "    }\n",
       "\n",
       "    .dataframe tbody tr th {\n",
       "        vertical-align: top;\n",
       "    }\n",
       "\n",
       "    .dataframe thead th {\n",
       "        text-align: right;\n",
       "    }\n",
       "</style>\n",
       "<table border=\"1\" class=\"dataframe\">\n",
       "  <thead>\n",
       "    <tr style=\"text-align: right;\">\n",
       "      <th></th>\n",
       "      <th>Postal Code</th>\n",
       "      <th>Borough</th>\n",
       "      <th>Neighborhood</th>\n",
       "      <th>Latitude</th>\n",
       "      <th>Longitude</th>\n",
       "    </tr>\n",
       "  </thead>\n",
       "  <tbody>\n",
       "    <tr>\n",
       "      <th>0</th>\n",
       "      <td>M3A</td>\n",
       "      <td>North York</td>\n",
       "      <td>Parkwoods</td>\n",
       "      <td>43.753259</td>\n",
       "      <td>-79.329656</td>\n",
       "    </tr>\n",
       "    <tr>\n",
       "      <th>1</th>\n",
       "      <td>M4A</td>\n",
       "      <td>North York</td>\n",
       "      <td>Victoria Village</td>\n",
       "      <td>43.725882</td>\n",
       "      <td>-79.315572</td>\n",
       "    </tr>\n",
       "    <tr>\n",
       "      <th>2</th>\n",
       "      <td>M5A</td>\n",
       "      <td>Downtown Toronto</td>\n",
       "      <td>Regent Park, Harbourfront</td>\n",
       "      <td>43.654260</td>\n",
       "      <td>-79.360636</td>\n",
       "    </tr>\n",
       "    <tr>\n",
       "      <th>3</th>\n",
       "      <td>M6A</td>\n",
       "      <td>North York</td>\n",
       "      <td>Lawrence Manor, Lawrence Heights</td>\n",
       "      <td>43.718518</td>\n",
       "      <td>-79.464763</td>\n",
       "    </tr>\n",
       "    <tr>\n",
       "      <th>4</th>\n",
       "      <td>M7A</td>\n",
       "      <td>Downtown Toronto</td>\n",
       "      <td>Queen's Park, Ontario Provincial Government</td>\n",
       "      <td>43.662301</td>\n",
       "      <td>-79.389494</td>\n",
       "    </tr>\n",
       "  </tbody>\n",
       "</table>\n",
       "</div>"
      ],
      "text/plain": [
       "  Postal Code           Borough                                 Neighborhood  \\\n",
       "0         M3A        North York                                    Parkwoods   \n",
       "1         M4A        North York                             Victoria Village   \n",
       "2         M5A  Downtown Toronto                    Regent Park, Harbourfront   \n",
       "3         M6A        North York             Lawrence Manor, Lawrence Heights   \n",
       "4         M7A  Downtown Toronto  Queen's Park, Ontario Provincial Government   \n",
       "\n",
       "    Latitude  Longitude  \n",
       "0  43.753259 -79.329656  \n",
       "1  43.725882 -79.315572  \n",
       "2  43.654260 -79.360636  \n",
       "3  43.718518 -79.464763  \n",
       "4  43.662301 -79.389494  "
      ]
     },
     "execution_count": 61,
     "metadata": {},
     "output_type": "execute_result"
    }
   ],
   "source": [
    "#add coordinates to initial dataframe\n",
    "df = pd.merge(df, coordinates, how = 'left', on = 'Postal Code')\n",
    "df.head()"
   ]
  },
  {
   "cell_type": "code",
   "execution_count": 83,
   "metadata": {},
   "outputs": [
    {
     "data": {
      "text/html": [
       "<div>\n",
       "<style scoped>\n",
       "    .dataframe tbody tr th:only-of-type {\n",
       "        vertical-align: middle;\n",
       "    }\n",
       "\n",
       "    .dataframe tbody tr th {\n",
       "        vertical-align: top;\n",
       "    }\n",
       "\n",
       "    .dataframe thead th {\n",
       "        text-align: right;\n",
       "    }\n",
       "</style>\n",
       "<table border=\"1\" class=\"dataframe\">\n",
       "  <thead>\n",
       "    <tr style=\"text-align: right;\">\n",
       "      <th></th>\n",
       "      <th>Postal Code</th>\n",
       "      <th>Borough</th>\n",
       "      <th>Neighborhood</th>\n",
       "      <th>Latitude</th>\n",
       "      <th>Longitude</th>\n",
       "    </tr>\n",
       "  </thead>\n",
       "  <tbody>\n",
       "    <tr>\n",
       "      <th>2</th>\n",
       "      <td>M5A</td>\n",
       "      <td>Downtown Toronto</td>\n",
       "      <td>Regent Park, Harbourfront</td>\n",
       "      <td>43.654260</td>\n",
       "      <td>-79.360636</td>\n",
       "    </tr>\n",
       "    <tr>\n",
       "      <th>4</th>\n",
       "      <td>M7A</td>\n",
       "      <td>Downtown Toronto</td>\n",
       "      <td>Queen's Park, Ontario Provincial Government</td>\n",
       "      <td>43.662301</td>\n",
       "      <td>-79.389494</td>\n",
       "    </tr>\n",
       "    <tr>\n",
       "      <th>9</th>\n",
       "      <td>M5B</td>\n",
       "      <td>Downtown Toronto</td>\n",
       "      <td>Garden District, Ryerson</td>\n",
       "      <td>43.657162</td>\n",
       "      <td>-79.378937</td>\n",
       "    </tr>\n",
       "    <tr>\n",
       "      <th>15</th>\n",
       "      <td>M5C</td>\n",
       "      <td>Downtown Toronto</td>\n",
       "      <td>St. James Town</td>\n",
       "      <td>43.651494</td>\n",
       "      <td>-79.375418</td>\n",
       "    </tr>\n",
       "    <tr>\n",
       "      <th>19</th>\n",
       "      <td>M4E</td>\n",
       "      <td>East Toronto</td>\n",
       "      <td>The Beaches</td>\n",
       "      <td>43.676357</td>\n",
       "      <td>-79.293031</td>\n",
       "    </tr>\n",
       "  </tbody>\n",
       "</table>\n",
       "</div>"
      ],
      "text/plain": [
       "   Postal Code           Borough                                 Neighborhood  \\\n",
       "2          M5A  Downtown Toronto                    Regent Park, Harbourfront   \n",
       "4          M7A  Downtown Toronto  Queen's Park, Ontario Provincial Government   \n",
       "9          M5B  Downtown Toronto                     Garden District, Ryerson   \n",
       "15         M5C  Downtown Toronto                               St. James Town   \n",
       "19         M4E      East Toronto                                  The Beaches   \n",
       "\n",
       "     Latitude  Longitude  \n",
       "2   43.654260 -79.360636  \n",
       "4   43.662301 -79.389494  \n",
       "9   43.657162 -79.378937  \n",
       "15  43.651494 -79.375418  \n",
       "19  43.676357 -79.293031  "
      ]
     },
     "execution_count": 83,
     "metadata": {},
     "output_type": "execute_result"
    }
   ],
   "source": [
    "#getting coordinates for Toronto\n",
    "neighborhoods = df[df.Borough.str.contains('Toronto')]\n",
    "neighborhoods.head()"
   ]
  },
  {
   "cell_type": "markdown",
   "metadata": {},
   "source": [
    "### Create map of Toronto with markers"
   ]
  },
  {
   "cell_type": "code",
   "execution_count": 87,
   "metadata": {},
   "outputs": [
    {
     "name": "stdout",
     "output_type": "stream",
     "text": [
      "The geograpical coordinate of Toronto are 43.6534817, -79.3839347.\n"
     ]
    },
    {
     "data": {
      "text/html": [
       "<div style=\"width:100%;\"><div style=\"position:relative;width:100%;height:0;padding-bottom:60%;\"><span style=\"color:#565656\">Make this Notebook Trusted to load map: File -> Trust Notebook</span><iframe src=\"about:blank\" style=\"position:absolute;width:100%;height:100%;left:0;top:0;border:none !important;\" data-html=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 onload=\"this.contentDocument.open();this.contentDocument.write(atob(this.getAttribute('data-html')));this.contentDocument.close();\" allowfullscreen webkitallowfullscreen mozallowfullscreen></iframe></div></div>"
      ],
      "text/plain": [
       "<folium.folium.Map at 0x113ad3e50>"
      ]
     },
     "execution_count": 87,
     "metadata": {},
     "output_type": "execute_result"
    }
   ],
   "source": [
    "#get Toronto coordinates\n",
    "address = 'Toronto'\n",
    "\n",
    "geolocator = Nominatim(user_agent=\"toronto_explorer\")\n",
    "location = geolocator.geocode(address)\n",
    "latitude = location.latitude\n",
    "longitude = location.longitude\n",
    "#print('The geograpical coordinate of Toronto are {}, {}.'.format(latitude, longitude))\n",
    "\n",
    "# create map of Totonto using latitude and longitude values\n",
    "map_toronto = folium.Map(location=[latitude, longitude], zoom_start=10)\n",
    "\n",
    "# add markers to the map\n",
    "for lat, lng, borough, neighborhood in zip(neighborhoods['Latitude'], neighborhoods['Longitude'], neighborhoods['Borough'], neighborhoods['Neighborhood']):\n",
    "    label = '{}, {}'.format(neighborhood, borough)\n",
    "    label = folium.Popup(label, parse_html=True)\n",
    "    folium.CircleMarker(\n",
    "        [lat, lng],\n",
    "        radius=5,\n",
    "        popup=label,\n",
    "        color='blue',\n",
    "        fill=True,\n",
    "        fill_color='#3186cc',\n",
    "        fill_opacity=0.7,\n",
    "        parse_html=False).add_to(map_toronto)  \n",
    "\n",
    "map_toronto"
   ]
  }
 ],
 "metadata": {
  "kernelspec": {
   "display_name": "Python 3",
   "language": "python",
   "name": "python3"
  },
  "language_info": {
   "codemirror_mode": {
    "name": "ipython",
    "version": 3
   },
   "file_extension": ".py",
   "mimetype": "text/x-python",
   "name": "python",
   "nbconvert_exporter": "python",
   "pygments_lexer": "ipython3",
   "version": "3.8.1"
  }
 },
 "nbformat": 4,
 "nbformat_minor": 1
}